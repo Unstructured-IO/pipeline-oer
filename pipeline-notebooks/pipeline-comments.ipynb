{
 "cells": [
  {
   "cell_type": "code",
   "execution_count": null,
   "id": "a75df6e5",
   "metadata": {},
   "outputs": [],
   "source": [
    "# pipeline-api\n",
    "import tempfile\n",
    "import requests"
   ]
  },
  {
   "cell_type": "code",
   "execution_count": null,
   "id": "31298a60",
   "metadata": {},
   "outputs": [],
   "source": [
    "import os\n",
    "\n",
    "DIRECTORY = os.path.split(os.getcwd())[0]\n",
    "SAMPLE_DOCS_DIRECTORY = os.path.join(DIRECTORY, \"sample-docs\")\n",
    "\n",
    "filename = os.path.join(SAMPLE_DOCS_DIRECTORY, \"fake-oer.pdf\")"
   ]
  },
  {
   "cell_type": "code",
   "execution_count": 70,
   "id": "1ae60fea",
   "metadata": {},
   "outputs": [],
   "source": [
    "# pipeline-api\n",
    "import warnings\n",
    "import json\n",
    "\n",
    "def partition_oer(filename: str, hide_tables: bool = True):\n",
    "    response = requests.post(\n",
    "        \"http://127.0.0.1:8000/layout/pdf\",\n",
    "        files={\"file\": (filename, open(filename, \"rb\")),},\n",
    "        data={\"hide_tables\" : hide_tables}\n",
    "    )\n",
    "    if response.status_code != 200:\n",
    "        raise RuntimeError(f\"HTTP Error {response.status_code}: {response.reason}.\")\n",
    "    \n",
    "    # NOTE(yuming): return the result from post request as a dictionary\n",
    "    partition_result = json.loads(response.content.decode(\"utf-8\"))\n",
    "    return partition_result"
   ]
  },
  {
   "cell_type": "code",
   "execution_count": 71,
   "id": "88aeefe4",
   "metadata": {},
   "outputs": [],
   "source": [
    "pages = partition_oer(filename)[\"pages\"]"
   ]
  },
  {
   "cell_type": "code",
   "execution_count": 72,
   "id": "e29a1540",
   "metadata": {},
   "outputs": [
    {
     "data": {
      "text/plain": [
       "[{'number': 0,\n",
       "  'elements': [{'type': 'Text',\n",
       "    'coordinates': [[20.50208282470703, 477.228759765625],\n",
       "     [576.6929931640625, 477.228759765625],\n",
       "     [576.6929931640625, 549.005615234375],\n",
       "     [20.50208282470703, 549.005615234375]],\n",
       "    'text': 'c. SIGNIFICANT DUTIES AND RESPONSIBILITIES Personnel and Administration Officer (S1) for a training battalion in the U.S. Army reserve. Principal staff assistant to the battalion commander. Exercise staff supervisor in matters pertaining to strength management, personnel qualifications and evaluations, personnel assignment, clearance, recruiting, retention, and battalion administration. Responsible for the overall supervision of the battalion Personnel Administration Center (PAC) and its activities. Serves as commander of Headquarters and Headquarters Detachment. Additional duties include; Battalion Safety Officer, Equal Opportunity Officer, Records Management Officer, and Retention Officer.'},\n",
       "   {'type': 'Text',\n",
       "    'coordinates': [[21.90071678161621, 716.411376953125],\n",
       "     [561.1478271484375, 716.411376953125],\n",
       "     [561.1478271484375, 738.9192504882812],\n",
       "     [21.90071678161621, 738.9192504882812]],\n",
       "    'text': '1LT X performed flawlessly in the execution of an overseas detention and area security mission at Guantanamo Bay, Cuba. Exceptional performance during this limited rating period by CPT X.'}]},\n",
       " {'number': 1,\n",
       "  'elements': [{'type': 'Text',\n",
       "    'coordinates': [[169.50018310546875, 59.942771911621094],\n",
       "     [583.9320068359375, 59.942771911621094],\n",
       "     [583.9320068359375, 97.8934326171875],\n",
       "     [169.50018310546875, 97.8934326171875]],\n",
       "    'text': '1LT X’s exceptional command presence and resilience lends itself to consistent mission accomplishment, good order and discipline, and a positive climate. 1LT X’s outstanding attitude and thirst for knowledge exceeds those around him which contributes to his overall exceptional character.'},\n",
       "   {'type': 'Text',\n",
       "    'coordinates': [[165.11672973632812, 163.61460876464844],\n",
       "     [577.8507080078125, 163.61460876464844],\n",
       "     [577.8507080078125, 203.94313049316406],\n",
       "     [165.11672973632812, 203.94313049316406]],\n",
       "    'text': '1LT X is able to analyze a situation and introduce new ideas when opportunities exist, approaching challenging circumstances with creativity and intellect. 1LT X is highly proficient in interacting with others, effectively adjusting behaviors when interacting with superiors, peers, and subordinates.'},\n",
       "   {'type': 'Text',\n",
       "    'coordinates': [[164.50286865234375, 214.92015075683594],\n",
       "     [590.8875732421875, 214.92015075683594],\n",
       "     [590.8875732421875, 254.5332794189453],\n",
       "     [164.50286865234375, 254.5332794189453]],\n",
       "    'text': '1LT X demonstrates the full range of required influence techniques enabling him to speak, lead and motivate every person in his unit. 1LT X works with the Alameda County Sheriff’s office, as well as other outside agencies, in order to build positive relationships established that have enhanced unit training.'},\n",
       "   {'type': 'Text',\n",
       "    'coordinates': [[162.33595275878906, 266.7913818359375],\n",
       "     [588.4671630859375, 266.7913818359375],\n",
       "     [588.4671630859375, 306.9278564453125],\n",
       "     [162.33595275878906, 306.9278564453125]],\n",
       "    'text': 'Absolute professional and squared away for duty; current on all applicable skills, knowledge, and mental toughness by engaging in engages in continual self-development. Using his extensive experience, 1LT X works well after normal duty hours, provides coaching, and counseling and mentoring.'},\n",
       "   {'type': 'Text',\n",
       "    'coordinates': [[160.3682403564453, 319.3941650390625],\n",
       "     [584.5869750976562, 319.3941650390625],\n",
       "     [584.5869750976562, 355.5816345214844],\n",
       "     [160.3682403564453, 355.5816345214844]],\n",
       "    'text': 'Developed AAR reporting template that standardized information across the battalion and ensured compliance with Army Regulations. She consistently presented appropriate and useful monthly reports on security clearances, weather effects, and threat assessments.'},\n",
       "   {'type': 'Text',\n",
       "    'coordinates': [[21.750041961669922, 380.1996765136719],\n",
       "     [569.5232543945312, 380.1996765136719],\n",
       "     [569.5232543945312, 418.11566162109375],\n",
       "     [21.750041961669922, 418.11566162109375]],\n",
       "    'text': '1LT X is #2 of the 20 Lieutenants I senior rated. He is an asset for the future and will progress further in his military career. Keep assigning him to demanding position and select him for the Military Police Captains Career Course now. Promote ahead of peers to Captain and select him for the next Company Command.'},\n",
       "   {'type': 'Text',\n",
       "    'coordinates': [[173.00125122070312, 699.8551635742188],\n",
       "     [419.0672302246094, 699.8551635742188],\n",
       "     [419.0672302246094, 708.8880615234375],\n",
       "     [173.00125122070312, 708.8880615234375]],\n",
       "    'text': 'd. List 3 future SUCCESSIVE assignments for which this Officer is best suited:'}]},\n",
       " {'number': 2, 'elements': []}]"
      ]
     },
     "execution_count": 72,
     "metadata": {},
     "output_type": "execute_result"
    }
   ],
   "source": [
    "pages"
   ]
  },
  {
   "cell_type": "markdown",
   "id": "317e8bdb",
   "metadata": {},
   "source": [
    "## Cleaning Brick"
   ]
  },
  {
   "cell_type": "code",
   "execution_count": 47,
   "id": "c484ba16",
   "metadata": {},
   "outputs": [
    {
     "name": "stdout",
     "output_type": "stream",
     "text": [
      "\n",
      "\n",
      "c. SIGNIFICANT DUTIES AND RESPONSIBILITIES Personnel and Administration Officer (S1) for a training battalion in the U.S. Army reserve. Principal staff assistant to the battalion commander. Exercise staff supervisor in matters pertaining to strength management, personnel qualifications and evaluations, personnel assignment, clearance, recruiting, retention, and battalion administration. Responsible for the overall supervision of the battalion Personnel Administration Center (PAC) and its activities. Serves as commander of Headquarters and Headquarters Detachment. Additional duties include; Battalion Safety Officer, Equal Opportunity Officer, Records Management Officer, and Retention Officer.\n",
      "\n",
      "\n",
      "1LT X performed flawlessly in the execution of an overseas detention and area security mission at Guantanamo Bay, Cuba. Exceptional performance during this limited rating period by CPT X.\n"
     ]
    }
   ],
   "source": [
    "for element in pages[0][\"elements\"]:\n",
    "    print(f\"\\n\\n{element['text']}\")"
   ]
  },
  {
   "cell_type": "code",
   "execution_count": null,
   "id": "9d0cebf0",
   "metadata": {},
   "outputs": [],
   "source": [
    "# pipeline-api\n",
    "import re\n",
    "\n",
    "\n",
    "BLOCK_TITLE_RE = re.compile(r\"c. (SIGNIFICANT DUTIES AND RESPONSIBILITIES\"\n",
    "                            r\"|COMMENTS ON POTENTIAL)\")\n",
    "\n",
    "def clean_block_titles(narrative: str) -> str:\n",
    "    \"\"\"Cleans the name of the block from the extracted narrative text\"\"\"\n",
    "    return BLOCK_TITLE_RE.sub(\"\", narrative).strip()"
   ]
  },
  {
   "cell_type": "code",
   "execution_count": null,
   "id": "8d77054d",
   "metadata": {},
   "outputs": [
    {
     "data": {
      "text/plain": [
       "'Personnel and Administration Officer (S1) for a training battalion in the U.S. Army reserve. Principal staff assistant to the battalion commander. Exercise staff supervisor in matters pertaining to strength management, personnel qualifications and evaluations, personnel assignment, clearance, recruiting, retention, and battalion administration. Responsible for the overall supervision of the battalion Personnel Administration Center (PAC) and its activities. Serves as commander of Headquarters and Headquarters Detachment. Additional duties include; Battalion Safety Officer, Equal Opportunity Officer, Records Management Officer, and Retention Officer.'"
      ]
     },
     "execution_count": null,
     "metadata": {},
     "output_type": "execute_result"
    }
   ],
   "source": [
    "clean_block_titles(pages[0].elements[0].text)"
   ]
  },
  {
   "cell_type": "code",
   "execution_count": null,
   "id": "0cef538f",
   "metadata": {},
   "outputs": [
    {
     "name": "stdout",
     "output_type": "stream",
     "text": [
      "\n",
      "\n",
      "1LT X’s exceptional command presence and resilience lends itself to consistent mission accomplishment, good order and discipline, and a positive climate. 1LT X’s outstanding attitude and thirst for knowledge exceeds those around him which contributes to his overall exceptional character.\n",
      "\n",
      "\n",
      "1LT X is able to analyze a situation and introduce new ideas when opportunities exist, approaching challenging circumstances with creativity and intellect. 1LT X is highly proficient in interacting with others, effectively adjusting behaviors when interacting with superiors, peers, and subordinates.\n",
      "\n",
      "\n",
      "1LT X demonstrates the full range of required influence techniques enabling him to speak, lead and motivate every person in his unit. 1LT X works with the Alameda County Sheriff’s office, as well as other outside agencies, in order to build positive relationships established that have enhanced unit training.\n",
      "\n",
      "\n",
      "Absolute professional and squared away for duty; current on all applicable skills, knowledge, and mental toughness by engaging in engages in continual self-development. Using his extensive experience, 1LT X works well after normal duty hours, provides coaching, and counseling and mentoring.\n",
      "\n",
      "\n",
      "Developed AAR reporting template that standardized information across the battalion and ensured compliance with Army Regulations. She consistently presented appropriate and useful monthly reports on security clearances, weather effects, and threat assessments.\n",
      "\n",
      "\n",
      "1LT X is #2 of the 20 Lieutenants I senior rated. He is an asset for the future and will progress further in his military career. Keep assigning him to demanding position and select him for the Military Police Captains Career Course now. Promote ahead of peers to Captain and select him for the next Company Command.\n",
      "\n",
      "\n",
      "d. List 3 future SUCCESSIVE assignments for which this Officer is best suited:\n"
     ]
    }
   ],
   "source": [
    "for element in pages[1].elements:\n",
    "    print(f\"\\n\\n{element}\")"
   ]
  },
  {
   "cell_type": "markdown",
   "id": "511ffbb9",
   "metadata": {},
   "source": [
    "### Staging"
   ]
  },
  {
   "cell_type": "code",
   "execution_count": null,
   "id": "79fe228a",
   "metadata": {},
   "outputs": [],
   "source": [
    "# pipeline-api\n",
    "COMMENT_BLOCKS = [\n",
    "    \"character\",\n",
    "    \"presence\",\n",
    "    \"intellect\",\n",
    "    \"leads\",\n",
    "    \"develops\",\n",
    "    \"achieves\",\n",
    "]"
   ]
  },
  {
   "cell_type": "code",
   "execution_count": null,
   "id": "06d1b56a",
   "metadata": {},
   "outputs": [],
   "source": [
    "# pipeline-api\n",
    "def structure_oer(pages):\n",
    "    \"\"\"Creates a dictionary with the extracted elements of the OER\"\"\"\n",
    "    if len(pages) < 2:\n",
    "        raise ValueError(f\"Pages length is {len(pages)}). \"\n",
    "                          \"Expected 2 pages.\")\n",
    "    \n",
    "    structured_oer = dict()\n",
    "        \n",
    "    first_page = pages[0][\"elements\"]\n",
    "    if len(first_page) < 2:\n",
    "        raise ValueError(f\"Number of narrative text elements on the \"\n",
    "                         f\"first page is {len(first_page)}. \"\n",
    "                          \"Expected at least two.\")\n",
    "    \n",
    "    duty_description = clean_block_titles(first_page[1][\"text\"])\n",
    "    structured_oer[\"duty_description\"] = duty_description\n",
    "    structured_oer[\"rater_comments\"] = first_page[-1].text\n",
    "    \n",
    "    second_page = pages[1][\"elements\"]\n",
    "    num_sections = len(COMMENT_BLOCKS)\n",
    "\n",
    "    if len(first_page) < 2:\n",
    "        raise ValueError(f\"Number of narrative text elements on the \"\n",
    "                         f\"second page is {len(second_page)}. \"\n",
    "                         f\"Expected at least {num_sections}.\")\n",
    "    \n",
    "    for i, section in enumerate(second_page[:num_sections]):\n",
    "        key = COMMENT_BLOCKS[i]\n",
    "        structured_oer[key] = section.text\n",
    "        \n",
    "    structured_oer[\"intermediate_rater\"] = second_page[-2].text\n",
    "        \n",
    "    return structured_oer"
   ]
  },
  {
   "cell_type": "code",
   "execution_count": null,
   "id": "14a33b3f",
   "metadata": {},
   "outputs": [],
   "source": [
    "oer = structure_oer(pages)"
   ]
  },
  {
   "cell_type": "markdown",
   "id": "42f69fbb",
   "metadata": {},
   "source": [
    "### API Definition"
   ]
  },
  {
   "cell_type": "code",
   "execution_count": null,
   "id": "7cb5e00b",
   "metadata": {},
   "outputs": [],
   "source": [
    "# pipeline-api\n",
    "def pipeline_api(text):\n",
    "    tmp = tempfile.NamedTemporaryFile(prefix=\"tmp_\", delete=False)\n",
    "    tmp.write(text)\n",
    "    tmp.close()\n",
    "    \n",
    "    pages = partition_oer(tmp.name)\n",
    "    return structure_oer(pages)"
   ]
  },
  {
   "cell_type": "code",
   "execution_count": null,
   "id": "c5515e52",
   "metadata": {},
   "outputs": [
    {
     "name": "stdout",
     "output_type": "stream",
     "text": [
      "\n",
      "\n",
      "======================================================================\n",
      "WARNING: PDF parsing capabilities in unstructured is still experimental\n",
      "======================================================================\n",
      "\n",
      "\n"
     ]
    }
   ],
   "source": [
    "with open(filename, \"rb\") as f:\n",
    "    oer = pipeline_api(f.read())"
   ]
  },
  {
   "cell_type": "code",
   "execution_count": null,
   "id": "c27694d2",
   "metadata": {},
   "outputs": [
    {
     "name": "stdout",
     "output_type": "stream",
     "text": [
      "{\n",
      "    \"duty_description\": \"Personnel and Administration Officer (S1) for a training battalion in the U.S. Army reserve. Principal staff assistant to the battalion commander. Exercise staff supervisor in matters pertaining to strength management, personnel qualifications and evaluations, personnel assignment, clearance, recruiting, retention, and battalion administration. Responsible for the overall supervision of the battalion Personnel Administration Center (PAC) and its activities. Serves as commander of Headquarters and Headquarters Detachment. Additional duties include; Battalion Safety Officer, Equal Opportunity Officer, Records Management Officer, and Retention Officer.\",\n",
      "    \"rater_comments\": \"1LT X performed flawlessly in the execution of an overseas detention and area security mission at Guantanamo Bay, Cuba. Exceptional performance during this limited rating period by CPT X.\",\n",
      "    \"character\": \"1LT X\\u2019s exceptional command presence and resilience lends itself to consistent mission accomplishment, good order and discipline, and a positive climate. 1LT X\\u2019s outstanding attitude and thirst for knowledge exceeds those around him which contributes to his overall exceptional character.\",\n",
      "    \"presence\": \"1LT X is able to analyze a situation and introduce new ideas when opportunities exist, approaching challenging circumstances with creativity and intellect. 1LT X is highly proficient in interacting with others, effectively adjusting behaviors when interacting with superiors, peers, and subordinates.\",\n",
      "    \"intellect\": \"1LT X demonstrates the full range of required influence techniques enabling him to speak, lead and motivate every person in his unit. 1LT X works with the Alameda County Sheriff\\u2019s office, as well as other outside agencies, in order to build positive relationships established that have enhanced unit training.\",\n",
      "    \"leads\": \"Absolute professional and squared away for duty; current on all applicable skills, knowledge, and mental toughness by engaging in engages in continual self-development. Using his extensive experience, 1LT X works well after normal duty hours, provides coaching, and counseling and mentoring.\",\n",
      "    \"develops\": \"Developed AAR reporting template that standardized information across the battalion and ensured compliance with Army Regulations. She consistently presented appropriate and useful monthly reports on security clearances, weather effects, and threat assessments.\",\n",
      "    \"achieves\": \"1LT X is #2 of the 20 Lieutenants I senior rated. He is an asset for the future and will progress further in his military career. Keep assigning him to demanding position and select him for the Military Police Captains Career Course now. Promote ahead of peers to Captain and select him for the next Company Command.\",\n",
      "    \"intermediate_rater\": \"1LT X is #2 of the 20 Lieutenants I senior rated. He is an asset for the future and will progress further in his military career. Keep assigning him to demanding position and select him for the Military Police Captains Career Course now. Promote ahead of peers to Captain and select him for the next Company Command.\"\n",
      "}\n"
     ]
    }
   ],
   "source": [
    "import json\n",
    "\n",
    "print(json.dumps(oer, indent=4))"
   ]
  },
  {
   "cell_type": "code",
   "execution_count": null,
   "id": "46d5c65e",
   "metadata": {},
   "outputs": [],
   "source": []
  }
 ],
 "metadata": {
  "kernelspec": {
   "display_name": "python3",
   "language": "python",
   "name": "python3"
  }
 },
 "nbformat": 4,
 "nbformat_minor": 5
}
