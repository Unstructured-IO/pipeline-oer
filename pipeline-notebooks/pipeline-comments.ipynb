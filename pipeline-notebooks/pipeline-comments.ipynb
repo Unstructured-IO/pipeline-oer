{
 "cells": [
  {
   "cell_type": "code",
   "execution_count": null,
   "id": "a75df6e5",
   "metadata": {},
   "outputs": [],
   "source": [
    "# pipeline-api\n",
    "import tempfile\n",
    "from unstructured.documents.pdf import PDFPage, PDFDocument"
   ]
  },
  {
   "cell_type": "code",
   "execution_count": null,
   "id": "31298a60",
   "metadata": {},
   "outputs": [],
   "source": [
    "import os\n",
    "\n",
    "DIRECTORY = os.getcwd()\n",
    "SAMPLE_DOCS_DIRECTORY = os.path.join(DIRECTORY, \"sample-docs\")\n",
    "\n",
    "filename = os.path.join(SAMPLE_DOCS_DIRECTORY, \"fake-oer.pdf\")"
   ]
  },
  {
   "cell_type": "code",
   "execution_count": null,
   "id": "1ae60fea",
   "metadata": {},
   "outputs": [],
   "source": [
    "# pipeline-api\n",
    "import warnings\n",
    "\n",
    "def partition_oer(filename: str):\n",
    "    doc = PDFDocument(filename)\n",
    "\n",
    "    # NOTE(robinson) - The warning we catch comes from the detectron2\n",
    "    # code. We have an issue to contribute back a fix for that\n",
    "    with warnings.catch_warnings():\n",
    "        warnings.simplefilter(\"ignore\")\n",
    "        doc._read()\n",
    "        pages = [page for page in doc.pages]\n",
    "        \n",
    "    return pages"
   ]
  },
  {
   "cell_type": "code",
   "execution_count": null,
   "id": "88aeefe4",
   "metadata": {},
   "outputs": [],
   "source": [
    "pages = partition_oer(filename)"
   ]
  },
  {
   "cell_type": "markdown",
   "id": "317e8bdb",
   "metadata": {},
   "source": [
    "## Cleaning Brick"
   ]
  },
  {
   "cell_type": "code",
   "execution_count": null,
   "id": "c484ba16",
   "metadata": {},
   "outputs": [],
   "source": [
    "for element in pages[0].elements:\n",
    "    print(f\"\\n\\n{element}\")"
   ]
  },
  {
   "cell_type": "code",
   "execution_count": null,
   "id": "9d0cebf0",
   "metadata": {},
   "outputs": [],
   "source": [
    "# pipeline-api\n",
    "import re\n",
    "\n",
    "\n",
    "BLOCK_TITLE_RE = re.compile(r\"c. (SIGNIFICANT DUTIES AND RESPONSIBILITIES\"\n",
    "                            r\"|COMMENTS ON POTENTIAL)\")\n",
    "\n",
    "def clean_block_titles(narrative: str) -> str:\n",
    "    \"\"\"Cleans the name of the block from the extracted narrative text\"\"\"\n",
    "    return BLOCK_TITLE_RE.sub(\"\", narrative).strip()"
   ]
  },
  {
   "cell_type": "code",
   "execution_count": null,
   "id": "8d77054d",
   "metadata": {},
   "outputs": [],
   "source": [
    "clean_block_titles(pages[0].elements[0].text)"
   ]
  },
  {
   "cell_type": "code",
   "execution_count": null,
   "id": "0cef538f",
   "metadata": {},
   "outputs": [],
   "source": [
    "for element in pages[1].elements:\n",
    "    print(f\"\\n\\n{element}\")"
   ]
  },
  {
   "cell_type": "markdown",
   "id": "511ffbb9",
   "metadata": {},
   "source": [
    "### Staging"
   ]
  },
  {
   "cell_type": "code",
   "execution_count": null,
   "id": "79fe228a",
   "metadata": {},
   "outputs": [],
   "source": [
    "# pipeline-api\n",
    "COMMENT_BLOCKS = [\n",
    "    \"character\",\n",
    "    \"presence\",\n",
    "    \"intellect\",\n",
    "    \"leads\",\n",
    "    \"develops\",\n",
    "    \"achieves\",\n",
    "]"
   ]
  },
  {
   "cell_type": "code",
   "execution_count": null,
   "id": "06d1b56a",
   "metadata": {},
   "outputs": [],
   "source": [
    "# pipeline-api\n",
    "def structure_oer(pages):\n",
    "    \"\"\"Creates a dictionary with the extracted elements of the OER\"\"\"\n",
    "    if len(pages) < 2:\n",
    "        raise ValueError(f\"Pages length is {len(pages)}). \"\n",
    "                          \"Expected 2 pages.\")\n",
    "    \n",
    "    structured_oer = dict()\n",
    "        \n",
    "    first_page = pages[0].elements \n",
    "    if len(first_page) < 2:\n",
    "        raise ValueError(f\"Number of narrative text elements on the \"\n",
    "                         f\"first page is {len(first_page)}. \"\n",
    "                          \"Expected at least two.\")\n",
    "    \n",
    "    duty_description = clean_block_titles(first_page[0].text)\n",
    "    structured_oer[\"duty_description\"] = duty_description\n",
    "    structured_oer[\"rater_comments\"] = first_page[-1].text\n",
    "    \n",
    "    second_page = pages[1].elements\n",
    "    num_sections = len(COMMENT_BLOCKS)\n",
    "\n",
    "    if len(first_page) < 2:\n",
    "        raise ValueError(f\"Number of narrative text elements on the \"\n",
    "                         f\"second page is {len(second_page)}. \"\n",
    "                         f\"Expected at least {num_sections}.\")\n",
    "    \n",
    "    for i, section in enumerate(second_page[:num_sections]):\n",
    "        key = COMMENT_BLOCKS[i]\n",
    "        structured_oer[key] = section.text\n",
    "        \n",
    "    structured_oer[\"intermediate_rater\"] = second_page[-2].text\n",
    "        \n",
    "    return structured_oer"
   ]
  },
  {
   "cell_type": "code",
   "execution_count": null,
   "id": "14a33b3f",
   "metadata": {},
   "outputs": [],
   "source": [
    "oer = structure_oer(pages)"
   ]
  },
  {
   "cell_type": "markdown",
   "id": "42f69fbb",
   "metadata": {},
   "source": [
    "### API Definition"
   ]
  },
  {
   "cell_type": "code",
   "execution_count": null,
   "id": "7cb5e00b",
   "metadata": {},
   "outputs": [],
   "source": [
    "# pipeline-api\n",
    "def pipeline_api(text):\n",
    "    tmp = tempfile.NamedTemporaryFile(prefix=\"tmp_\", delete=False)\n",
    "    tmp.write(text)\n",
    "    tmp.close()\n",
    "    \n",
    "    pages = partition_oer(tmp.name)\n",
    "    return structure_oer(pages)"
   ]
  },
  {
   "cell_type": "code",
   "execution_count": null,
   "id": "c5515e52",
   "metadata": {},
   "outputs": [],
   "source": [
    "with open(filename, \"rb\") as f:\n",
    "    oer = pipeline_api(f.read())"
   ]
  },
  {
   "cell_type": "code",
   "execution_count": null,
   "id": "c27694d2",
   "metadata": {},
   "outputs": [],
   "source": [
    "import json\n",
    "\n",
    "print(json.dumps(oer, indent=4))"
   ]
  },
  {
   "cell_type": "code",
   "execution_count": null,
   "id": "46d5c65e",
   "metadata": {},
   "outputs": [],
   "source": []
  }
 ],
 "metadata": {
  "kernelspec": {
   "display_name": "Python 3 (ipykernel)",
   "language": "python",
   "name": "python3"
  },
  "language_info": {
   "codemirror_mode": {
    "name": "ipython",
    "version": 3
   },
   "file_extension": ".py",
   "mimetype": "text/x-python",
   "name": "python",
   "nbconvert_exporter": "python",
   "pygments_lexer": "ipython3",
   "version": "3.8.13"
  }
 },
 "nbformat": 4,
 "nbformat_minor": 5
}
