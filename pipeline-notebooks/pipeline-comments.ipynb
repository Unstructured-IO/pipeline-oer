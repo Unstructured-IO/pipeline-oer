{
 "cells": [
  {
   "cell_type": "code",
   "execution_count": null,
   "id": "a75df6e5",
   "metadata": {},
   "outputs": [],
   "source": [
    "# pipeline-api\n",
    "import requests"
   ]
  },
  {
   "cell_type": "code",
   "execution_count": null,
   "id": "31298a60",
   "metadata": {},
   "outputs": [],
   "source": [
    "import os\n",
    "import json\n",
    "\n",
    "\n",
    "def get_filename():\n",
    "    sample_directory = \"sample-docs\"\n",
    "    oer_filename = \"fake-oer.pdf\"\n",
    "    \n",
    "    cwd = os.getcwd()\n",
    "    local_directory = os.path.join(os.path.split(cwd)[0], sample_directory)\n",
    "    ci_directory = os.path.join(cwd, sample_directory)\n",
    "\n",
    "    if os.path.exists(local_directory) and oer_filename in os.listdir(local_directory):\n",
    "        return os.path.join(local_directory, oer_filename)\n",
    "    elif os.path.exists(ci_directory) and oer_filename in os.listdir(ci_directory):\n",
    "        return os.path.join(ci_directory, oer_filename)\n",
    "    else:\n",
    "        raise FileNotFoundError"
   ]
  },
  {
   "cell_type": "code",
   "execution_count": null,
   "id": "1ae60fea",
   "metadata": {},
   "outputs": [],
   "source": [
    "# pipeline-api\n",
    "def partition_oer(file, filename, file_content_type=None, include_elems=[\"Text\", \"Title\", \"Table\"]):\n",
    "    response = requests.post(\n",
    "        \"https://ml.unstructured.io/layout/pdf\",\n",
    "        files={\"file\": (filename, file, file_content_type)},\n",
    "        data={\"include_elems\" : include_elems}\n",
    "    )\n",
    "    partition_result = json.loads(response.content.decode(\"utf-8\"))\n",
    "    return partition_result"
   ]
  },
  {
   "cell_type": "code",
   "execution_count": null,
   "id": "88aeefe4",
   "metadata": {},
   "outputs": [],
   "source": [
    "filename = get_filename()\n",
    "with open(filename, \"rb\") as f:\n",
    "    pages = partition_oer(f, filename)[\"pages\"]"
   ]
  },
  {
   "cell_type": "markdown",
   "id": "317e8bdb",
   "metadata": {},
   "source": [
    "## Cleaning Brick"
   ]
  },
  {
   "cell_type": "code",
   "execution_count": null,
   "id": "c484ba16",
   "metadata": {},
   "outputs": [
    {
     "name": "stdout",
     "output_type": "stream",
     "text": [
      "\n",
      "\n",
      "c. SIGNIFICANT DUTIES AND RESPONSIBILITIES Personnel and Administration Officer (S1) for a training battalion in the U.S. Army reserve. Principal staff assistant to the battalion commander. Exercise staff supervisor in matters pertaining to strength management, personnel qualifications and evaluations, personnel assignment, clearance, recruiting, retention, and battalion administration. Responsible for the overall supervision of the battalion Personnel Administration Center (PAC) and its activities. Serves as commander of Headquarters and Headquarters Detachment. Additional duties include; Battalion Safety Officer, Equal Opportunity Officer, Records Management Officer, and Retention Officer.\n",
      "\n",
      "\n",
      "1LT X performed flawlessly in the execution of an overseas detention and area security mission at Guantanamo Bay, Cuba. Exceptional performance during this limited rating period by CPT X.\n"
     ]
    }
   ],
   "source": [
    "for element in pages[0][\"elements\"]:\n",
    "    if element[\"type\"] == \"Text\":\n",
    "        print(f\"\\n\\n{element['text']}\")"
   ]
  },
  {
   "cell_type": "code",
   "execution_count": null,
   "id": "9d0cebf0",
   "metadata": {},
   "outputs": [],
   "source": [
    "# pipeline-api\n",
    "from unstructured.cleaners.core import clean_prefix, clean_extra_whitespace\n",
    "\n",
    "BLOCK_TITLE_PATTTERN = (r\"c. (SIGNIFICANT DUTIES AND RESPONSIBILITIES\"\n",
    "                        r\"|COMMENTS ON POTENTIAL):?\")"
   ]
  },
  {
   "cell_type": "code",
   "execution_count": null,
   "id": "4d3f147e",
   "metadata": {},
   "outputs": [
    {
     "data": {
      "text/plain": [
       "'Personnel and Administration Officer (S1) for a training battalion in the U.S. Army reserve. Principal staff assistant to the battalion commander. Exercise staff supervisor in matters pertaining to strength management, personnel qualifications and evaluations, personnel assignment, clearance, recruiting, retention, and battalion administration. Responsible for the overall supervision of the battalion Personnel Administration Center (PAC) and its activities. Serves as commander of Headquarters and Headquarters Detachment. Additional duties include; Battalion Safety Officer, Equal Opportunity Officer, Records Management Officer, and Retention Officer.'"
      ]
     },
     "execution_count": null,
     "metadata": {},
     "output_type": "execute_result"
    }
   ],
   "source": [
    "text = \"\"\"c. SIGNIFICANT DUTIES AND RESPONSIBILITIES Personnel and Administration Officer (S1) \n",
    "for a training battalion in the U.S. Army reserve. Principal staff assistant to the battalion\n",
    "commander. Exercise staff supervisor in matters pertaining to strength management, personnel \n",
    "qualifications and evaluations, personnel assignment, clearance, recruiting, retention, and \n",
    "battalion administration. Responsible for the overall supervision of the battalion Personnel \n",
    "Administration Center (PAC) and its activities. Serves as commander of Headquarters and Headquarters \n",
    "Detachment. Additional duties include; Battalion Safety Officer, Equal Opportunity Officer, \n",
    "Records Management Officer, and Retention Officer.\"\"\"\n",
    "\n",
    "clean_description = clean_prefix(text, BLOCK_TITLE_PATTTERN)\n",
    "clean_extra_whitespace(clean_description)"
   ]
  },
  {
   "cell_type": "code",
   "execution_count": null,
   "id": "0cef538f",
   "metadata": {},
   "outputs": [
    {
     "name": "stdout",
     "output_type": "stream",
     "text": [
      "\n",
      "\n",
      "1LT X’s exceptional command presence and resilience lends itself to consistent mission accomplishment, good order and discipline, and a positive climate. 1LT X’s outstanding attitude and thirst for knowledge exceeds those around him which contributes to his overall exceptional character.\n",
      "\n",
      "\n",
      "1LT X is able to analyze a situation and introduce new ideas when opportunities exist, approaching challenging circumstances with creativity and intellect. 1LT X is highly proficient in interacting with others, effectively adjusting behaviors when interacting with superiors, peers, and subordinates.\n",
      "\n",
      "\n",
      "1LT X demonstrates the full range of required influence techniques enabling him to speak, lead and motivate every person in his unit. 1LT X works with the Alameda County Sheriff’s office, as well as other outside agencies, in order to build positive relationships established that have enhanced unit training.\n",
      "\n",
      "\n",
      "Absolute professional and squared away for duty; current on all applicable skills, knowledge, and mental toughness by engaging in engages in continual self-development. Using his extensive experience, 1LT X works well after normal duty hours, provides coaching, and counseling and mentoring.\n",
      "\n",
      "\n",
      "Developed AAR reporting template that standardized information across the battalion and ensured compliance with Army Regulations. She consistently presented appropriate and useful monthly reports on security clearances, weather effects, and threat assessments.\n",
      "\n",
      "\n",
      "1LT X is #2 of the 20 Lieutenants I senior rated. He is an asset for the future and will progress further in his military career. Keep assigning him to demanding position and select him for the Military Police Captains Career Course now. Promote ahead of peers to Captain and select him for the next Company Command.\n",
      "\n",
      "\n",
      "d. List 3 future SUCCESSIVE assignments for which this Officer is best suited:\n"
     ]
    }
   ],
   "source": [
    "for element in pages[1][\"elements\"]:\n",
    "    if element[\"type\"] == \"Text\":\n",
    "        print(f\"\\n\\n{element['text']}\")"
   ]
  },
  {
   "cell_type": "markdown",
   "id": "511ffbb9",
   "metadata": {},
   "source": [
    "### Staging"
   ]
  },
  {
   "cell_type": "code",
   "execution_count": null,
   "id": "612620c0",
   "metadata": {},
   "outputs": [
    {
     "data": {
      "text/plain": [
       "{'type': 'Table',\n",
       " 'coordinates': [[7.690715312957764, 51.52677917480469],\n",
       "  [594.323974609375, 51.52677917480469],\n",
       "  [594.323974609375, 367.3587341308594],\n",
       "  [7.690715312957764, 367.3587341308594]],\n",
       " 'text': 'c. 1) Character : Developed AAR reporting template that standardized information across the battalion and ensured compliance with Army Regulations. She consistently presented appropriate and useful monthly reports on security clearances, weather effects, and threat assessments. (Gets Results) c. 6) Achieves : Absolute professional and squared away for duty; current on all applicable skills, knowledge, and mental toughness by engaging in engages in continual self-development. Using his extensive experience, 1LT X works well after normal duty hours, provides coaching, and counseling and mentoring. (Creates a positive command/workplace environment/Fosters Esprit de Corps, Prepares Self, Develops Others, Stewards the Profession) c. 5) Develops : 1LT X demonstrates the full range of required influence techniques enabling him to speak, lead and motivate every person in his unit. 1LT X works with the Alameda County Sheriff’s office, as well as other outside agencies, in order to build positive relationships established that have enhanced unit training. (Leads Others, Builds Trust, Extends Influence beyond the Chain of Command, Leads by Example, Communicates) c. 4) Leads : 1LT X is able to analyze a situation and introduce new ideas when opportunities exist, approaching challenging circumstances with creativity and intellect. 1LT X is highly proficient in interacting with others, effectively adjusting behaviors when interacting with superiors, peers, and subordinates. (Mental Agility, Sound Judgment, Innovation, Interpersonal Tact, Expertise) c. 3) Intellect : 1LT X maintains an excellent fitness level and sets the standard for his Soldiers, with a score of 275 on his last APFT. 1LT X models the composure, outward calm, and control over his emotions that you want to see in a leader during adverse conditions. (Military and Professional Bearing, Fitness, Confident, Resilient) c. 2) Presence : 1LT X’s exceptional command presence and resilience lends itself to consistent mission accomplishment, good order and discipline, and a positive climate. 1LT X’s outstanding attitude and thirst for knowledge exceeds those around him which contributes to his overall exceptional character. (Adherence to Army Values, Empathy, and Warrior Ethos/Service Ethos and Discipline. Fully supports SHARP, EO, and EEO.)'}"
      ]
     },
     "execution_count": null,
     "metadata": {},
     "output_type": "execute_result"
    }
   ],
   "source": [
    "pages[1][\"elements\"][0]"
   ]
  },
  {
   "cell_type": "code",
   "execution_count": null,
   "id": "f1774bb4",
   "metadata": {},
   "outputs": [],
   "source": [
    "# pipeline-api\n",
    "import re\n",
    "\n",
    "from unstructured.cleaners.core import clean_postfix, replace_unicode_quotes\n",
    "\n",
    "DESCRIPTIONS = {\n",
    "    \"character\": \"Adherence to Army Values, Empathy, and Warrior Ethos/Service Ethos\"\n",
    "                 \" and Discipline. Fully supports SHARP, EO, and EEO.\",\n",
    "    \"presence\": \"Military and Professional Bearing, Fitness, Confident, Resilient\",\n",
    "    \"intellect\": \"Mental Agility, Sound Judgment, Innovation, Interpersonal Tact, Expertise\",\n",
    "    \"leads\": \"Leads Others, Builds Trust, Extends Influence beyond the Chain of\"\n",
    "              \" Command, Leads by Example, Communicates\",\n",
    "    \"develops\": \"Creates a positive command/workplace environment/Fosters Esprit de\"\n",
    "                 \" Corps, Prepares Self, Develops Others, Stewards the Profession\",\n",
    "    \"achieves\": \"Gets Results\",\n",
    "}\n",
    "\n",
    "SECTION_PATTERN = r\"c. [1-6]\\) ({0}) :\".format(\"|\".join(list(DESCRIPTIONS.keys())))\n",
    "\n",
    "DESCRIPTION_PATTERN = r\"\\(({0})\\)\".format(\"|\".join(list(DESCRIPTIONS.values())))\n",
    "\n",
    "def get_rater_sections(pages):\n",
    "    \"\"\"Extracts the Character, Presence, Intellect, Leads, Develops, and Achieves blocks\n",
    "    from the rater comments and converts them to a dictionary.\"\"\"\n",
    "    rater_sections = dict()\n",
    "    for element in pages[1][\"elements\"]:\n",
    "        if re.search(SECTION_PATTERN, element[\"text\"], flags=re.IGNORECASE):\n",
    "            section_split = re.split(SECTION_PATTERN, element[\"text\"], flags=re.IGNORECASE)\n",
    "            for chunk in section_split:\n",
    "                for key, description in DESCRIPTIONS.items():\n",
    "                    if description in chunk:\n",
    "                        comments = clean_postfix(chunk.strip(), DESCRIPTION_PATTERN)\n",
    "                        rater_sections[key] = replace_unicode_quotes(comments)\n",
    "    return rater_sections"
   ]
  },
  {
   "cell_type": "code",
   "execution_count": null,
   "id": "c740be79",
   "metadata": {},
   "outputs": [
    {
     "data": {
      "text/plain": [
       "{'achieves': 'Developed AAR reporting template that standardized information across the battalion and ensured compliance with Army Regulations. She consistently presented appropriate and useful monthly reports on security clearances, weather effects, and threat assessments.',\n",
       " 'develops': 'Absolute professional and squared away for duty; current on all applicable skills, knowledge, and mental toughness by engaging in engages in continual self-development. Using his extensive experience, 1LT X works well after normal duty hours, provides coaching, and counseling and mentoring.',\n",
       " 'leads': '1LT X demonstrates the full range of required influence techniques enabling him to speak, lead and motivate every person in his unit. 1LT X works with the Alameda County Sheriff’s office, as well as other outside agencies, in order to build positive relationships established that have enhanced unit training.',\n",
       " 'intellect': '1LT X is able to analyze a situation and introduce new ideas when opportunities exist, approaching challenging circumstances with creativity and intellect. 1LT X is highly proficient in interacting with others, effectively adjusting behaviors when interacting with superiors, peers, and subordinates.',\n",
       " 'presence': '1LT X maintains an excellent fitness level and sets the standard for his Soldiers, with a score of 275 on his last APFT. 1LT X models the composure, outward calm, and control over his emotions that you want to see in a leader during adverse conditions.',\n",
       " 'character': '1LT X’s exceptional command presence and resilience lends itself to consistent mission accomplishment, good order and discipline, and a positive climate. 1LT X’s outstanding attitude and thirst for knowledge exceeds those around him which contributes to his overall exceptional character.'}"
      ]
     },
     "execution_count": null,
     "metadata": {},
     "output_type": "execute_result"
    }
   ],
   "source": [
    "get_rater_sections(pages)"
   ]
  },
  {
   "cell_type": "code",
   "execution_count": null,
   "id": "1904e1df",
   "metadata": {},
   "outputs": [
    {
     "data": {
      "text/plain": [
       "{'type': 'Table',\n",
       " 'coordinates': [[29.08255958557129, 515.68212890625],\n",
       "  [588.7683715820312, 515.68212890625],\n",
       "  [588.7683715820312, 744.3233642578125],\n",
       "  [29.08255958557129, 744.3233642578125]],\n",
       " 'text': 'PART VI - SENIOR RATER POTENTIAL COMPARED WITH OFFICERS SENIOR RATED IN SAME GRADE (OVERPRINTED BY DA) MOST QUALIFIED (limited to 49%) HIGHLY QUALIFIED QUALIFIED NOT QUALIFIED b. I currently senior rate Army Officers in this grade. 1LT X is an intelligent and creative Officer with the potential to progress in rank as a leader. 1LT X is ready for positions of increased responsibilities; he will excel as a Staff Officer followed by Company Command if given the opportunity. Select for Military Police Captains Career Course and promote to captain when eligible. c. COMMENTS ON POTENTIAL: d. List 3 future SUCCESSIVE assignments for which this Officer is best suited: Battalion FDO; Battalion AS3; Battalion S4'}"
      ]
     },
     "execution_count": null,
     "metadata": {},
     "output_type": "execute_result"
    }
   ],
   "source": [
    "pages[1][\"elements\"][-2]"
   ]
  },
  {
   "cell_type": "code",
   "execution_count": null,
   "id": "51a3bf42",
   "metadata": {},
   "outputs": [],
   "source": [
    "# pipeline-api\n",
    "from unstructured.cleaners.extract import extract_text_after, extract_text_before\n",
    "\n",
    "\n",
    "SENIOR_RATER_PREFIX = (r\"PART VI - SENIOR RATER POTENTIAL COMPARED WITH OFFICERS SENIOR RATED IN SAME GRADE \"\n",
    "                       r\"\\(OVERPRINTED BY DA\\) MOST QUALIFIED \"\n",
    "                       r\"\\(limited to 49%\\) HIGHLY QUALIFIED QUALIFIED NOT QUALIFIED b. \")\n",
    "        \n",
    "NEXT_ASSIGNMENT_PREFIX = \"d. List 3 future SUCCESSIVE assignments for which this Officer is best suited: \"\n",
    "\n",
    "def get_senior_rater_comments(pages):\n",
    "    for element in pages[1][\"elements\"]:\n",
    "        if re.search(SENIOR_RATER_PREFIX, element[\"text\"]):\n",
    "            raw_comments = clean_prefix(element[\"text\"], SENIOR_RATER_PREFIX)\n",
    "\n",
    "            sr_rater_comments = extract_text_before(raw_comments, NEXT_ASSIGNMENT_PREFIX)\n",
    "            sr_rater_comments = clean_postfix(sr_rater_comments, BLOCK_TITLE_PATTTERN)\n",
    "\n",
    "            next_assigments = extract_text_after(raw_comments, NEXT_ASSIGNMENT_PREFIX)\n",
    "\n",
    "            return {\"comments\": sr_rater_comments, \"next_assignment\": next_assigments.split(\";\")}\n",
    "\n",
    "    return dict()"
   ]
  },
  {
   "cell_type": "code",
   "execution_count": null,
   "id": "df9cbf49",
   "metadata": {},
   "outputs": [
    {
     "data": {
      "text/plain": [
       "{'comments': 'I currently senior rate Army Officers in this grade. 1LT X is an intelligent and creative Officer with the potential to progress in rank as a leader. 1LT X is ready for positions of increased responsibilities; he will excel as a Staff Officer followed by Company Command if given the opportunity. Select for Military Police Captains Career Course and promote to captain when eligible.',\n",
       " 'next_assignment': ['Battalion FDO', ' Battalion AS3', ' Battalion S4']}"
      ]
     },
     "execution_count": null,
     "metadata": {},
     "output_type": "execute_result"
    }
   ],
   "source": [
    "get_senior_rater_comments(pages)"
   ]
  },
  {
   "cell_type": "code",
   "execution_count": null,
   "id": "06d1b56a",
   "metadata": {},
   "outputs": [],
   "source": [
    "# pipeline-api\n",
    "def structure_oer(pages):\n",
    "    \"\"\"Creates a dictionary with the extracted elements of the OER.\n",
    "    Input is a list of dictionaries,\n",
    "    each dictionary contains raw information of a page as extracted from PDF parsing.\n",
    "    Output is a dictionary that includes structured extracted information from the OER.\n",
    "    \"\"\"\n",
    "    if len(pages) < 2:\n",
    "        raise ValueError(f\"Pages length is {len(pages)}. \"\n",
    "                          \"Expected 2 pages.\")\n",
    "\n",
    "    structured_oer = dict()\n",
    "\n",
    "    first_page = [element for element in pages[0][\"elements\"] if element[\"type\"] == \"Text\"]\n",
    "    if len(first_page) < 2:\n",
    "        raise ValueError(f\"Number of narrative text elements on the \"\n",
    "                         f\"first page is {len(first_page)}. \"\n",
    "                          \"Expected at least two.\")\n",
    "\n",
    "    duty_description = first_page[0][\"text\"]\n",
    "    duty_description = clean_prefix(duty_description, BLOCK_TITLE_PATTTERN)\n",
    "    structured_oer[\"duty_description\"] = clean_extra_whitespace(duty_description)\n",
    "    structured_oer[\"rater_comments\"] = first_page[-1][\"text\"]\n",
    "    structured_oer[\"rater_sections\"] = get_rater_sections(pages)\n",
    "    structured_oer[\"senior_rater_comments\"] = get_senior_rater_comments(pages)\n",
    "\n",
    "    second_page = [element for element in pages[1][\"elements\"] if element[\"type\"] == \"Text\"]\n",
    "    structured_oer[\"intermediate_rater\"] = second_page[-2][\"text\"]\n",
    "\n",
    "    return structured_oer"
   ]
  },
  {
   "cell_type": "code",
   "execution_count": null,
   "id": "14a33b3f",
   "metadata": {},
   "outputs": [],
   "source": [
    "oer = structure_oer(pages)"
   ]
  },
  {
   "cell_type": "markdown",
   "id": "42f69fbb",
   "metadata": {},
   "source": [
    "### API Definition"
   ]
  },
  {
   "cell_type": "code",
   "execution_count": null,
   "id": "7cb5e00b",
   "metadata": {},
   "outputs": [],
   "source": [
    "# pipeline-api\n",
    "def pipeline_api(file, file_content_type=None, filename=None):\n",
    "    pages = partition_oer(file, filename, file_content_type=file_content_type)[\"pages\"]\n",
    "\n",
    "    return structure_oer(pages)"
   ]
  },
  {
   "cell_type": "code",
   "execution_count": null,
   "id": "c5515e52",
   "metadata": {},
   "outputs": [],
   "source": [
    "with open(filename, \"rb\") as f:\n",
    "    oer = pipeline_api(f, filename=filename)"
   ]
  },
  {
   "cell_type": "code",
   "execution_count": null,
   "id": "c27694d2",
   "metadata": {},
   "outputs": [
    {
     "name": "stdout",
     "output_type": "stream",
     "text": [
      "{\n",
      "    \"duty_description\": \"Personnel and Administration Officer (S1) for a training battalion in the U.S. Army reserve. Principal staff assistant to the battalion commander. Exercise staff supervisor in matters pertaining to strength management, personnel qualifications and evaluations, personnel assignment, clearance, recruiting, retention, and battalion administration. Responsible for the overall supervision of the battalion Personnel Administration Center (PAC) and its activities. Serves as commander of Headquarters and Headquarters Detachment. Additional duties include; Battalion Safety Officer, Equal Opportunity Officer, Records Management Officer, and Retention Officer.\",\n",
      "    \"rater_comments\": \"1LT X performed flawlessly in the execution of an overseas detention and area security mission at Guantanamo Bay, Cuba. Exceptional performance during this limited rating period by CPT X.\",\n",
      "    \"rater_sections\": {\n",
      "        \"achieves\": \"Developed AAR reporting template that standardized information across the battalion and ensured compliance with Army Regulations. She consistently presented appropriate and useful monthly reports on security clearances, weather effects, and threat assessments.\",\n",
      "        \"develops\": \"Absolute professional and squared away for duty; current on all applicable skills, knowledge, and mental toughness by engaging in engages in continual self-development. Using his extensive experience, 1LT X works well after normal duty hours, provides coaching, and counseling and mentoring.\",\n",
      "        \"leads\": \"1LT X demonstrates the full range of required influence techniques enabling him to speak, lead and motivate every person in his unit. 1LT X works with the Alameda County Sheriff\\u2019s office, as well as other outside agencies, in order to build positive relationships established that have enhanced unit training.\",\n",
      "        \"intellect\": \"1LT X is able to analyze a situation and introduce new ideas when opportunities exist, approaching challenging circumstances with creativity and intellect. 1LT X is highly proficient in interacting with others, effectively adjusting behaviors when interacting with superiors, peers, and subordinates.\",\n",
      "        \"presence\": \"1LT X maintains an excellent fitness level and sets the standard for his Soldiers, with a score of 275 on his last APFT. 1LT X models the composure, outward calm, and control over his emotions that you want to see in a leader during adverse conditions.\",\n",
      "        \"character\": \"1LT X\\u2019s exceptional command presence and resilience lends itself to consistent mission accomplishment, good order and discipline, and a positive climate. 1LT X\\u2019s outstanding attitude and thirst for knowledge exceeds those around him which contributes to his overall exceptional character.\"\n",
      "    },\n",
      "    \"senior_rater_comments\": {\n",
      "        \"comments\": \"I currently senior rate Army Officers in this grade. 1LT X is an intelligent and creative Officer with the potential to progress in rank as a leader. 1LT X is ready for positions of increased responsibilities; he will excel as a Staff Officer followed by Company Command if given the opportunity. Select for Military Police Captains Career Course and promote to captain when eligible.\",\n",
      "        \"next_assignment\": [\n",
      "            \"Battalion FDO\",\n",
      "            \" Battalion AS3\",\n",
      "            \" Battalion S4\"\n",
      "        ]\n",
      "    },\n",
      "    \"intermediate_rater\": \"1LT X is #2 of the 20 Lieutenants I senior rated. He is an asset for the future and will progress further in his military career. Keep assigning him to demanding position and select him for the Military Police Captains Career Course now. Promote ahead of peers to Captain and select him for the next Company Command.\"\n",
      "}\n"
     ]
    }
   ],
   "source": [
    "print(json.dumps(oer, indent=4))"
   ]
  },
  {
   "cell_type": "code",
   "execution_count": null,
   "id": "46d5c65e",
   "metadata": {},
   "outputs": [],
   "source": []
  }
 ],
 "metadata": {
  "kernelspec": {
   "display_name": "python3",
   "language": "python",
   "name": "python3"
  }
 },
 "nbformat": 4,
 "nbformat_minor": 5
}
